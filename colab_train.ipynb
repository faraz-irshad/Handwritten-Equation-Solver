{
 "cells": [
  {
   "cell_type": "markdown",
   "metadata": {},
   "source": [
    "# 🧮 Handwritten Equation Solver - Google Colab Training\n",
    "\n",
    "**High-accuracy CNN ensemble for handwritten arithmetic recognition**\n",
    "\n",
    "Expected Performance:\n",
    "- Digit Recognition: 98-99%\n",
    "- Operator Recognition: 95-98%\n",
    "- Overall System: 92-98%\n",
    "\n",
    "⚡ **GPU Recommended** - Training time: ~15-20 minutes with GPU, ~60+ minutes with CPU"
   ]
  },
  {
   "cell_type": "markdown",
   "metadata": {},
   "source": [
    "## 📋 Step 1: Environment Setup\n",
    "\n",
    "First, let's check GPU availability and install dependencies."
   ]
  },
  {
   "cell_type": "code",
   "execution_count": null,
   "metadata": {},
   "outputs": [],
   "source": [
    "# Check GPU and system info\n",
    "!nvidia-smi\n",
    "\n",
    "import torch\n",
    "print(f'PyTorch version: {torch.__version__}')\n",
    "print(f'CUDA available: {torch.cuda.is_available()}')\n",
    "if torch.cuda.is_available():\n",
    "    print(f'GPU: {torch.cuda.get_device_name(0)}')\n",
    "    print(f'GPU Memory: {torch.cuda.get_device_properties(0).total_memory / 1e9:.1f} GB')\n",
    "else:\n",
    "    print('⚠️ No GPU detected. Training will be slower on CPU.')"
   ]
  },
  {
   "cell_type": "code",
   "execution_count": null,
   "metadata": {},
   "outputs": [],
   "source": [
    "# Install required packages\n",
    "!pip install torch torchvision opencv-python-headless pillow numpy scipy scikit-image gradio requests torchmetrics\n",
    "\n",
    "# Verify installations\n",
    "import cv2, numpy as np, PIL\n",
    "print('✅ All packages installed successfully')"
   ]
  },
  {
   "cell_type": "markdown",
   "metadata": {},
   "source": [
    "## 📁 Step 2: Upload Project Files\n",
    "\n",
    "Upload your project files or clone from GitHub."
   ]
  },
  {
   "cell_type": "code",
   "execution_count": null,
   "metadata": {},
   "outputs": [],
   "source": [
    "# Option 1: Clone from GitHub (replace with your repo URL)\n",
    "# !git clone https://github.com/your-username/handwritten-equation-solver.git\n",
    "# %cd handwritten-equation-solver\n",
    "\n",
    "# Option 2: Upload files manually\n",
    "from google.colab import files\n",
    "import zipfile\n",
    "import os\n",
    "\n",
    "print('📁 Upload your project ZIP file:')\n",
    "uploaded = files.upload()\n",
    "\n",
    "# Extract uploaded ZIP\n",
    "for filename in uploaded.keys():\n",
    "    if filename.endswith('.zip'):\n",
    "        with zipfile.ZipFile(filename, 'r') as zip_ref:\n",
    "            zip_ref.extractall('.')\n",
    "        print(f'✅ Extracted {filename}')\n",
    "        break\n",
    "\n",
    "# Navigate to project directory\n",
    "if os.path.exists('hes'):\n",
    "    %cd hes\n",
    "elif os.path.exists('handwritten-equation-solver'):\n",
    "    %cd handwritten-equation-solver\n",
    "\n",
    "!ls -la"
   ]
  },
  {
   "cell_type": "markdown",
   "metadata": {},
   "source": [
    "## 🏗️ Step 3: Create Project Structure\n",
    "\n",
    "If files weren't uploaded, we'll create the project from scratch."
   ]
  },
  {
   "cell_type": "code",
   "execution_count": null,
   "metadata": {},
   "outputs": [],
   "source": [
    "# Create project structure\n",
    "import os\n",
    "\n",
    "# Create directories\n",
    "os.makedirs('models', exist_ok=True)\n",
    "os.makedirs('data/operators', exist_ok=True)\n",
    "os.makedirs('data/mnist', exist_ok=True)\n",
    "os.makedirs('data/emnist', exist_ok=True)\n",
    "\n",
    "print('📁 Project structure created:')\n",
    "!tree . -L 2 2>/dev/null || find . -type d -name '.*' -prune -o -type d -print | head -10"
   ]
  },
  {
   "cell_type": "markdown",
   "metadata": {},
   "source": [
    "## 🎯 Step 4: Generate Training Data\n",
    "\n",
    "Generate realistic handwritten-style operator data."
   ]
  },
  {
   "cell_type": "code",
   "execution_count": null,
   "metadata": {},
   "outputs": [],
   "source": [
    "%%time\n",
    "# Generate operator training data\n",
    "exec(open('data_gen.py').read()) if os.path.exists('data_gen.py') else None\n",
    "\n",
    "# Generate data\n",
    "try:\n",
    "    generate_operators(samples_per_class=1000)\n",
    "    print('✅ Operator data generated successfully')\n",
    "except Exception as e:\n",
    "    print(f'❌ Error generating data: {e}')"
   ]
  },
  {
   "cell_type": "markdown",
   "metadata": {},
   "source": [
    "## 🚀 Step 5: Train Models\n",
    "\n",
    "Train both digit and operator recognition models with ensemble approach."
   ]
  },
  {
   "cell_type": "code",
   "execution_count": null,
   "metadata": {},
   "outputs": [],
   "source": [
    "%%time\n",
    "# Train digit recognition model (EMNIST dataset)\n",
    "print('🔢 Training digit recognition model...')\n",
    "\n",
    "try:\n",
    "    exec(open('train_digits.py').read()) if os.path.exists('train_digits.py') else None\n",
    "    train_digits()\n",
    "    print('✅ Digit model training completed')\n",
    "except Exception as e:\n",
    "    print(f'❌ Digit training failed: {e}')\n",
    "    import traceback\n",
    "    traceback.print_exc()"
   ]
  },
  {
   "cell_type": "code",
   "execution_count": null,
   "metadata": {},
   "outputs": [],
   "source": [
    "%%time\n",
    "# Train operator recognition model\n",
    "print('➕ Training operator recognition model...')\n",
    "\n",
    "try:\n",
    "    exec(open('train_operators.py').read()) if os.path.exists('train_operators.py') else None\n",
    "    train_operators()\n",
    "    print('✅ Operator model training completed')\n",
    "except Exception as e:\n",
    "    print(f'❌ Operator training failed: {e}')\n",
    "    import traceback\n",
    "    traceback.print_exc()"
   ]
  },
  {
   "cell_type": "markdown",
   "metadata": {},
   "source": [
    "## 🧪 Step 6: Test the Models\n",
    "\n",
    "Test the trained models with sample equations."
   ]
  },
  {
   "cell_type": "code",
   "execution_count": null,
   "metadata": {},
   "outputs": [],
   "source": [
    "# Test the trained models\n",
    "import matplotlib.pyplot as plt\n",
    "from PIL import Image, ImageDraw, ImageFont\n",
    "import numpy as np\n",
    "\n",
    "# Load solver\n",
    "try:\n",
    "    exec(open('predict.py').read()) if os.path.exists('predict.py') else None\n",
    "    device = 'cuda' if torch.cuda.is_available() else 'cpu'\n",
    "    solver = Solver(device=device)\n",
    "    print('✅ Solver loaded successfully')\n",
    "except Exception as e:\n",
    "    print(f'❌ Failed to load solver: {e}')\n",
    "    solver = None"
   ]
  },
  {
   "cell_type": "code",
   "execution_count": null,
   "metadata": {},
   "outputs": [],
   "source": [
    "# Create test images\n",
    "def create_test_image(text, size=(200, 80)):\n",
    "    img = Image.new('L', size, color=255)\n",
    "    draw = ImageDraw.Draw(img)\n",
    "    \n",
    "    try:\n",
    "        font = ImageFont.truetype('/usr/share/fonts/truetype/dejavu/DejaVuSans.ttf', 40)\n",
    "    except:\n",
    "        try:\n",
    "            font = ImageFont.truetype('arial.ttf', 40)\n",
    "        except:\n",
    "            font = ImageFont.load_default()\n",
    "    \n",
    "    # Center text\n",
    "    bbox = draw.textbbox((0, 0), text, font=font)\n",
    "    w, h = bbox[2] - bbox[0], bbox[3] - bbox[1]\n",
    "    x = (size[0] - w) // 2\n",
    "    y = (size[1] - h) // 2\n",
    "    \n",
    "    draw.text((x, y), text, fill=0, font=font)\n",
    "    return img\n",
    "\n",
    "# Test equations\n",
    "test_equations = ['2+3', '7-4', '5×2', '8÷2', '9+1']\n",
    "\n",
    "if solver:\n",
    "    fig, axes = plt.subplots(1, len(test_equations), figsize=(15, 3))\n",
    "    \n",
    "    for i, eq in enumerate(test_equations):\n",
    "        # Create test image\n",
    "        test_img = create_test_image(eq)\n",
    "        \n",
    "        # Predict\n",
    "        try:\n",
    "            expression, result = solver.predict_image(test_img)\n",
    "            title = f'Input: {eq}\\nDetected: {expression}\\nResult: {result}'\n",
    "        except Exception as e:\n",
    "            title = f'Input: {eq}\\nError: {str(e)[:20]}'\n",
    "        \n",
    "        # Display\n",
    "        axes[i].imshow(test_img, cmap='gray')\n",
    "        axes[i].set_title(title, fontsize=8)\n",
    "        axes[i].axis('off')\n",
    "    \n",
    "    plt.tight_layout()\n",
    "    plt.show()\n",
    "else:\n",
    "    print('❌ Cannot test - solver not loaded')"
   ]
  },
  {
   "cell_type": "markdown",
   "metadata": {},
   "source": [
    "## 🌐 Step 7: Launch Web Interface\n",
    "\n",
    "Launch Gradio interface for interactive testing."
   ]
  },
  {
   "cell_type": "code",
   "execution_count": null,
   "metadata": {},
   "outputs": [],
   "source": [
    "# Launch Gradio interface\n",
    "try:\n",
    "    exec(open('app.py').read()) if os.path.exists('app.py') else None\n",
    "    print('🌐 Launching web interface...')\n",
    "    # The interface will launch automatically\n",
    "except Exception as e:\n",
    "    print(f'❌ Failed to launch interface: {e}')\n",
    "    print('You can still download the models and use them locally.')"
   ]
  },
  {
   "cell_type": "markdown",
   "metadata": {},
   "source": [
    "## 📥 Step 8: Download Trained Models\n",
    "\n",
    "Download the trained models to use locally."
   ]
  },
  {
   "cell_type": "code",
   "execution_count": null,
   "metadata": {},
   "outputs": [],
   "source": [
    "# Check available models\n",
    "import os\n",
    "\n",
    "print('📁 Available model files:')\n",
    "model_files = []\n",
    "for file in os.listdir('models'):\n",
    "    if file.endswith(('.pth', '.json')):\n",
    "        size = os.path.getsize(f'models/{file}') / (1024*1024)\n",
    "        print(f'  {file} ({size:.1f} MB)')\n",
    "        model_files.append(f'models/{file}')\n",
    "\n",
    "print(f'\\n📊 Total models: {len(model_files)}')"
   ]
  },
  {
   "cell_type": "code",
   "execution_count": null,
   "metadata": {},
   "outputs": [],
   "source": [
    "# Download models\n",
    "from google.colab import files\n",
    "import zipfile\n",
    "\n",
    "# Create ZIP of all models\n",
    "with zipfile.ZipFile('trained_models.zip', 'w') as zipf:\n",
    "    for file in model_files:\n",
    "        if os.path.exists(file):\n",
    "            zipf.write(file, os.path.basename(file))\n",
    "            print(f'✅ Added {file} to ZIP')\n",
    "\n",
    "print('\\n📦 Downloading trained models...')\n",
    "files.download('trained_models.zip')\n",
    "\n",
    "print('✅ Download complete!')"
   ]
  },
  {
   "cell_type": "markdown",
   "metadata": {},
   "source": [
    "## 📊 Training Summary\n",
    "\n",
    "### Models Trained:\n",
    "- **Digit Recognition**: EfficientCNN on EMNIST dataset\n",
    "- **Operator Recognition**: EfficientCNN on synthetic handwritten data\n",
    "- **Ensemble Models**: Multiple architectures for higher accuracy\n",
    "\n",
    "### Expected Performance:\n",
    "- **Digit Accuracy**: 98-99%\n",
    "- **Operator Accuracy**: 95-98%\n",
    "- **Overall System**: 92-98%\n",
    "\n",
    "### Key Features:\n",
    "- Stroke Width Transform segmentation\n",
    "- Ensemble + Test-Time Augmentation\n",
    "- Context-aware prediction\n",
    "- Grammar correction\n",
    "\n",
    "### Usage:\n",
    "1. Download the models\n",
    "2. Use with the Gradio interface or integrate into your application\n",
    "3. For local use: `python app.py`"
   ]
  }
 ],
 "metadata": {
  "kernelspec": {
   "display_name": "Python 3",
   "language": "python",
   "name": "python3"
  },
  "language_info": {
   "codemirror_mode": {
    "name": "ipython",
    "version": 3
   },
   "file_extension": ".py",
   "mimetype": "text/x-python",
   "name": "python",
   "nbconvert_exporter": "python",
   "pygments_lexer": "ipython3",
   "version": "3.8.5"
  }
 },
 "nbformat": 4,
 "nbformat_minor": 4
}